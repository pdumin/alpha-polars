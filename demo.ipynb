{
 "cells": [
  {
   "cell_type": "code",
   "execution_count": null,
   "metadata": {},
   "outputs": [],
   "source": [
    "# !pip install polars\n",
    "# !pip install kaggle\n",
    "# !pip install matplotlib"
   ]
  },
  {
   "cell_type": "code",
   "execution_count": 5,
   "metadata": {},
   "outputs": [
    {
     "name": "stdout",
     "output_type": "stream",
     "text": [
      "Downloading alfabattle-20.zip to /Users/paveldumin/Documents/alpha-polars\n",
      "100%|██████████████████████████████████████| 4.37G/4.37G [14:22<00:00, 6.04MB/s]\n",
      "100%|██████████████████████████████████████| 4.37G/4.37G [14:22<00:00, 5.44MB/s]\n"
     ]
    }
   ],
   "source": [
    "# !kaggle datasets download -d mrmorj/alfabattle-20\n",
    "# !unzip -qq alfabattle-20.zip"
   ]
  },
  {
   "cell_type": "code",
   "execution_count": 1,
   "metadata": {},
   "outputs": [],
   "source": [
    "import polars as pl\n",
    "import matplotlib.pyplot as plt"
   ]
  },
  {
   "cell_type": "code",
   "execution_count": 2,
   "metadata": {},
   "outputs": [
    {
     "name": "stdout",
     "output_type": "stream",
     "text": [
      "Estimated size: 24.180120080709457\n",
      "CPU times: user 35.3 s, sys: 27.9 s, total: 1min 3s\n",
      "Wall time: 26.4 s\n"
     ]
    }
   ],
   "source": [
    "%%time\n",
    "df = pl.read_parquet('alfabattle2_train_transactions_contest/train_transactions_contest/*.parquet')\n",
    "print(f'Estimated size: {df.estimated_size('gb')}')"
   ]
  },
  {
   "cell_type": "code",
   "execution_count": 3,
   "metadata": {},
   "outputs": [
    {
     "data": {
      "text/html": [
       "<div><style>\n",
       ".dataframe > thead > tr > th,\n",
       ".dataframe > tbody > tr > td {\n",
       "  text-align: right;\n",
       "  white-space: pre-wrap;\n",
       "}\n",
       "</style>\n",
       "<small>shape: (5, 21)</small><table border=\"1\" class=\"dataframe\"><thead><tr><th>app_id</th><th>amnt</th><th>currency</th><th>operation_kind</th><th>card_type</th><th>operation_type</th><th>operation_type_group</th><th>ecommerce_flag</th><th>payment_system</th><th>income_flag</th><th>mcc</th><th>country</th><th>city</th><th>mcc_category</th><th>day_of_week</th><th>hour</th><th>days_before</th><th>weekofyear</th><th>hour_diff</th><th>transaction_number</th><th>__index_level_0__</th></tr><tr><td>i32</td><td>f64</td><td>i32</td><td>i32</td><td>i32</td><td>i32</td><td>i32</td><td>i32</td><td>i32</td><td>i32</td><td>i32</td><td>i32</td><td>i32</td><td>i32</td><td>i32</td><td>i32</td><td>i32</td><td>i32</td><td>i64</td><td>i32</td><td>i64</td></tr></thead><tbody><tr><td>0</td><td>0.465425</td><td>1</td><td>4</td><td>98</td><td>4</td><td>2</td><td>3</td><td>7</td><td>3</td><td>2</td><td>1</td><td>37</td><td>2</td><td>4</td><td>19</td><td>351</td><td>34</td><td>-1</td><td>1</td><td>0</td></tr><tr><td>0</td><td>0.0</td><td>1</td><td>2</td><td>98</td><td>7</td><td>1</td><td>3</td><td>7</td><td>3</td><td>2</td><td>1</td><td>49</td><td>2</td><td>4</td><td>20</td><td>351</td><td>34</td><td>0</td><td>2</td><td>1</td></tr><tr><td>0</td><td>0.521152</td><td>1</td><td>2</td><td>98</td><td>3</td><td>1</td><td>3</td><td>7</td><td>3</td><td>2</td><td>1</td><td>37</td><td>2</td><td>4</td><td>20</td><td>351</td><td>34</td><td>0</td><td>3</td><td>2</td></tr><tr><td>0</td><td>0.356078</td><td>1</td><td>1</td><td>5</td><td>2</td><td>1</td><td>3</td><td>7</td><td>3</td><td>10</td><td>1</td><td>49</td><td>7</td><td>2</td><td>0</td><td>348</td><td>34</td><td>52</td><td>4</td><td>3</td></tr><tr><td>0</td><td>0.0</td><td>1</td><td>2</td><td>98</td><td>7</td><td>1</td><td>3</td><td>7</td><td>3</td><td>2</td><td>1</td><td>49</td><td>2</td><td>4</td><td>16</td><td>337</td><td>53</td><td>280</td><td>5</td><td>4</td></tr></tbody></table></div>"
      ],
      "text/plain": [
       "shape: (5, 21)\n",
       "┌────────┬──────────┬──────────┬────────────┬───┬────────────┬───────────┬────────────┬────────────┐\n",
       "│ app_id ┆ amnt     ┆ currency ┆ operation_ ┆ … ┆ weekofyear ┆ hour_diff ┆ transactio ┆ __index_le │\n",
       "│ ---    ┆ ---      ┆ ---      ┆ kind       ┆   ┆ ---        ┆ ---       ┆ n_number   ┆ vel_0__    │\n",
       "│ i32    ┆ f64      ┆ i32      ┆ ---        ┆   ┆ i32        ┆ i64       ┆ ---        ┆ ---        │\n",
       "│        ┆          ┆          ┆ i32        ┆   ┆            ┆           ┆ i32        ┆ i64        │\n",
       "╞════════╪══════════╪══════════╪════════════╪═══╪════════════╪═══════════╪════════════╪════════════╡\n",
       "│ 0      ┆ 0.465425 ┆ 1        ┆ 4          ┆ … ┆ 34         ┆ -1        ┆ 1          ┆ 0          │\n",
       "│ 0      ┆ 0.0      ┆ 1        ┆ 2          ┆ … ┆ 34         ┆ 0         ┆ 2          ┆ 1          │\n",
       "│ 0      ┆ 0.521152 ┆ 1        ┆ 2          ┆ … ┆ 34         ┆ 0         ┆ 3          ┆ 2          │\n",
       "│ 0      ┆ 0.356078 ┆ 1        ┆ 1          ┆ … ┆ 34         ┆ 52        ┆ 4          ┆ 3          │\n",
       "│ 0      ┆ 0.0      ┆ 1        ┆ 2          ┆ … ┆ 53         ┆ 280       ┆ 5          ┆ 4          │\n",
       "└────────┴──────────┴──────────┴────────────┴───┴────────────┴───────────┴────────────┴────────────┘"
      ]
     },
     "execution_count": 3,
     "metadata": {},
     "output_type": "execute_result"
    }
   ],
   "source": [
    "df.head()"
   ]
  },
  {
   "cell_type": "code",
   "execution_count": 5,
   "metadata": {},
   "outputs": [
    {
     "name": "stdout",
     "output_type": "stream",
     "text": [
      "Estimated size after casting: 12.8456887928769\n"
     ]
    }
   ],
   "source": [
    "# cast several column to reduce df size\n",
    "df = df.with_columns(\n",
    "    pl.col('currency').cast(pl.Int8),\n",
    "    pl.col('operation_type').cast(pl.Int8),\n",
    "    pl.col('income_flag').cast(pl.Int8),\n",
    "    pl.col('payment_system').cast(pl.Int8),\n",
    "    pl.col('ecommerce_flag').cast(pl.Int8),\n",
    "    pl.col('mcc_category').cast(pl.Int8),\n",
    "    pl.col('country').cast(pl.Int8),\n",
    "    pl.col('mcc').cast(pl.Int8),\n",
    "    pl.col('day_of_week').cast(pl.Int8),\n",
    "    pl.col('hour').cast(pl.Int8),\n",
    "    pl.col('weekofyear').cast(pl.Int8),\n",
    "    pl.col('days_before').cast(pl.Int16),\n",
    "    pl.col('city').cast(pl.Int16),\n",
    "    pl.col('card_type').cast(pl.Int16),\n",
    "    pl.col('operation_kind').cast(pl.Int16), \n",
    "    pl.col('amnt').cast(pl.Float32)\n",
    "    )\n",
    "print(f'Estimated size after casting: {df.estimated_size('gb')}')"
   ]
  },
  {
   "cell_type": "code",
   "execution_count": 6,
   "metadata": {},
   "outputs": [],
   "source": [
    "# read target \n",
    "users = pl.read_csv(\n",
    "    'alfabattle2_train_target.csv',\n",
    "    dtypes={'app_id' : pl.Int32}\n",
    "    )"
   ]
  },
  {
   "cell_type": "code",
   "execution_count": 7,
   "metadata": {},
   "outputs": [
    {
     "name": "stdout",
     "output_type": "stream",
     "text": [
      "CPU times: user 7.89 s, sys: 18.5 s, total: 26.4 s\n",
      "Wall time: 15.7 s\n"
     ]
    }
   ],
   "source": [
    "%%time\n",
    "# join tables\n",
    "merged = df.join(other=users, on='app_id')"
   ]
  },
  {
   "cell_type": "code",
   "execution_count": 8,
   "metadata": {},
   "outputs": [
    {
     "name": "stdout",
     "output_type": "stream",
     "text": [
      "Estimated size after join operation: 16.875708806328475\n"
     ]
    }
   ],
   "source": [
    "print(f'Estimated size after join operation: {merged.estimated_size('gb')}')"
   ]
  },
  {
   "cell_type": "code",
   "execution_count": 9,
   "metadata": {},
   "outputs": [
    {
     "data": {
      "text/html": [
       "<div><style>\n",
       ".dataframe > thead > tr > th,\n",
       ".dataframe > tbody > tr > td {\n",
       "  text-align: right;\n",
       "  white-space: pre-wrap;\n",
       "}\n",
       "</style>\n",
       "<small>shape: (5, 23)</small><table border=\"1\" class=\"dataframe\"><thead><tr><th>app_id</th><th>amnt</th><th>currency</th><th>operation_kind</th><th>card_type</th><th>operation_type</th><th>operation_type_group</th><th>ecommerce_flag</th><th>payment_system</th><th>income_flag</th><th>mcc</th><th>country</th><th>city</th><th>mcc_category</th><th>day_of_week</th><th>hour</th><th>days_before</th><th>weekofyear</th><th>hour_diff</th><th>transaction_number</th><th>__index_level_0__</th><th>product</th><th>flag</th></tr><tr><td>i32</td><td>f32</td><td>i8</td><td>i16</td><td>i16</td><td>i8</td><td>i32</td><td>i8</td><td>i8</td><td>i8</td><td>i8</td><td>i8</td><td>i16</td><td>i8</td><td>i8</td><td>i8</td><td>i16</td><td>i8</td><td>i64</td><td>i32</td><td>i64</td><td>i64</td><td>i64</td></tr></thead><tbody><tr><td>0</td><td>0.465425</td><td>1</td><td>4</td><td>98</td><td>4</td><td>2</td><td>3</td><td>7</td><td>3</td><td>2</td><td>1</td><td>37</td><td>2</td><td>4</td><td>19</td><td>351</td><td>34</td><td>-1</td><td>1</td><td>0</td><td>3</td><td>0</td></tr><tr><td>0</td><td>0.0</td><td>1</td><td>2</td><td>98</td><td>7</td><td>1</td><td>3</td><td>7</td><td>3</td><td>2</td><td>1</td><td>49</td><td>2</td><td>4</td><td>20</td><td>351</td><td>34</td><td>0</td><td>2</td><td>1</td><td>3</td><td>0</td></tr><tr><td>0</td><td>0.521152</td><td>1</td><td>2</td><td>98</td><td>3</td><td>1</td><td>3</td><td>7</td><td>3</td><td>2</td><td>1</td><td>37</td><td>2</td><td>4</td><td>20</td><td>351</td><td>34</td><td>0</td><td>3</td><td>2</td><td>3</td><td>0</td></tr><tr><td>0</td><td>0.356078</td><td>1</td><td>1</td><td>5</td><td>2</td><td>1</td><td>3</td><td>7</td><td>3</td><td>10</td><td>1</td><td>49</td><td>7</td><td>2</td><td>0</td><td>348</td><td>34</td><td>52</td><td>4</td><td>3</td><td>3</td><td>0</td></tr><tr><td>0</td><td>0.0</td><td>1</td><td>2</td><td>98</td><td>7</td><td>1</td><td>3</td><td>7</td><td>3</td><td>2</td><td>1</td><td>49</td><td>2</td><td>4</td><td>16</td><td>337</td><td>53</td><td>280</td><td>5</td><td>4</td><td>3</td><td>0</td></tr></tbody></table></div>"
      ],
      "text/plain": [
       "shape: (5, 23)\n",
       "┌────────┬──────────┬──────────┬───────────────┬───┬───────────────┬──────────────┬─────────┬──────┐\n",
       "│ app_id ┆ amnt     ┆ currency ┆ operation_kin ┆ … ┆ transaction_n ┆ __index_leve ┆ product ┆ flag │\n",
       "│ ---    ┆ ---      ┆ ---      ┆ d             ┆   ┆ umber         ┆ l_0__        ┆ ---     ┆ ---  │\n",
       "│ i32    ┆ f32      ┆ i8       ┆ ---           ┆   ┆ ---           ┆ ---          ┆ i64     ┆ i64  │\n",
       "│        ┆          ┆          ┆ i16           ┆   ┆ i32           ┆ i64          ┆         ┆      │\n",
       "╞════════╪══════════╪══════════╪═══════════════╪═══╪═══════════════╪══════════════╪═════════╪══════╡\n",
       "│ 0      ┆ 0.465425 ┆ 1        ┆ 4             ┆ … ┆ 1             ┆ 0            ┆ 3       ┆ 0    │\n",
       "│ 0      ┆ 0.0      ┆ 1        ┆ 2             ┆ … ┆ 2             ┆ 1            ┆ 3       ┆ 0    │\n",
       "│ 0      ┆ 0.521152 ┆ 1        ┆ 2             ┆ … ┆ 3             ┆ 2            ┆ 3       ┆ 0    │\n",
       "│ 0      ┆ 0.356078 ┆ 1        ┆ 1             ┆ … ┆ 4             ┆ 3            ┆ 3       ┆ 0    │\n",
       "│ 0      ┆ 0.0      ┆ 1        ┆ 2             ┆ … ┆ 5             ┆ 4            ┆ 3       ┆ 0    │\n",
       "└────────┴──────────┴──────────┴───────────────┴───┴───────────────┴──────────────┴─────────┴──────┘"
      ]
     },
     "execution_count": 9,
     "metadata": {},
     "output_type": "execute_result"
    }
   ],
   "source": [
    "merged.head()"
   ]
  },
  {
   "cell_type": "code",
   "execution_count": null,
   "metadata": {},
   "outputs": [],
   "source": []
  }
 ],
 "metadata": {
  "kernelspec": {
   "display_name": "polars",
   "language": "python",
   "name": "python3"
  },
  "language_info": {
   "codemirror_mode": {
    "name": "ipython",
    "version": 3
   },
   "file_extension": ".py",
   "mimetype": "text/x-python",
   "name": "python",
   "nbconvert_exporter": "python",
   "pygments_lexer": "ipython3",
   "version": "3.12.0"
  }
 },
 "nbformat": 4,
 "nbformat_minor": 2
}
